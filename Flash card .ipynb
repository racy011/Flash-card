{
 "cells": [
  {
   "cell_type": "code",
   "execution_count": 2,
   "id": "c2307b8c",
   "metadata": {},
   "outputs": [],
   "source": [
    "import tkinter as tk\n",
    "from tkinter import messagebox\n",
    "\n",
    "class FlashcardApp:\n",
    "    def __init__(self, root):\n",
    "        self.root = root\n",
    "        self.root.title(\"Flashcard App\")\n",
    "        self.root.geometry(\"400x300\")\n",
    "\n",
    "        # List of flashcards (questions and answers)\n",
    "        self.flashcards = [\n",
    "            {\"question\": \"What is the capital of France?\", \"answer\": \"Paris\"},\n",
    "            {\"question\": \"What is the largest planet in our solar system?\", \"answer\": \"Jupiter\"},\n",
    "            {\"question\": \"Who wrote 'To Kill a Mockingbird'?\", \"answer\": \"Harper Lee\"},\n",
    "            {\"question\": \"What is the smallest prime number?\", \"answer\": \"2\"},\n",
    "        ]\n",
    "\n",
    "        self.current_index = 0\n",
    "        self.showing_answer = False\n",
    "\n",
    "        # GUI Components\n",
    "        self.question_label = tk.Label(root, text=self.flashcards[self.current_index][\"question\"], font=(\"Arial\", 14), wraplength=300)\n",
    "        self.question_label.pack(pady=30)\n",
    "\n",
    "        self.show_button = tk.Button(root, text=\"Show Answer\", command=self.show_answer)\n",
    "        self.show_button.pack()\n",
    "\n",
    "        self.next_button = tk.Button(root, text=\"Next Flashcard\", command=self.next_flashcard)\n",
    "        self.next_button.pack(pady=20)\n",
    "\n",
    "    def show_answer(self):\n",
    "        if not self.showing_answer:\n",
    "            self.question_label.config(text=self.flashcards[self.current_index][\"answer\"])\n",
    "            self.show_button.config(text=\"Show Question\")\n",
    "            self.showing_answer = True\n",
    "        else:\n",
    "            self.question_label.config(text=self.flashcards[self.current_index][\"question\"])\n",
    "            self.show_button.config(text=\"Show Answer\")\n",
    "            self.showing_answer = False\n",
    "\n",
    "    def next_flashcard(self):\n",
    "        self.current_index = (self.current_index + 1) % len(self.flashcards)\n",
    "        self.question_label.config(text=self.flashcards[self.current_index][\"question\"])\n",
    "        self.show_button.config(text=\"Show Answer\")\n",
    "        self.showing_answer = False\n",
    "\n",
    "# Running the app\n",
    "if __name__ == \"__main__\":\n",
    "    root = tk.Tk()\n",
    "    app = FlashcardApp(root)\n",
    "    root.mainloop()\n"
   ]
  },
  {
   "cell_type": "code",
   "execution_count": null,
   "id": "a8b1730d",
   "metadata": {},
   "outputs": [],
   "source": []
  }
 ],
 "metadata": {
  "kernelspec": {
   "display_name": "Python 3 (ipykernel)",
   "language": "python",
   "name": "python3"
  },
  "language_info": {
   "codemirror_mode": {
    "name": "ipython",
    "version": 3
   },
   "file_extension": ".py",
   "mimetype": "text/x-python",
   "name": "python",
   "nbconvert_exporter": "python",
   "pygments_lexer": "ipython3",
   "version": "3.10.9"
  }
 },
 "nbformat": 4,
 "nbformat_minor": 5
}
